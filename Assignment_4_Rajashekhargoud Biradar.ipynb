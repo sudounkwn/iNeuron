{
 "cells": [
  {
   "cell_type": "markdown",
   "id": "baa3519a",
   "metadata": {},
   "source": [
    "#1. What exactly is []?\n",
    "\n",
    "Ans:\n",
    "\n",
    "[] --> is empty list\n",
    "it can also be used to fetch value at specific position in colletion"
   ]
  },
  {
   "cell_type": "code",
   "execution_count": 1,
   "id": "a0106a06",
   "metadata": {},
   "outputs": [
    {
     "data": {
      "text/plain": [
       "[2, 4, 'hello', 8, 10]"
      ]
     },
     "execution_count": 1,
     "metadata": {},
     "output_type": "execute_result"
    }
   ],
   "source": [
    "#2. In a list of values stored in a variable called spam, how would you assign the value &#39;hello&#39; as the\n",
    "#third value? (Assume [2, 4, 6, 8, 10] are in spam.)\n",
    "\n",
    "spam = [2, 4, 6, 8, 10]\n",
    "spam[2] = 'hello'\n",
    "spam"
   ]
  },
  {
   "cell_type": "code",
   "execution_count": null,
   "id": "e5b3ee54",
   "metadata": {},
   "outputs": [],
   "source": [
    "#3. What is the value of spam[int(int(&#39;3&#39; * 2) / 11)]?\n",
    "\n",
    "spam = ['a','b','c','d']\n",
    "\n",
    "ANS: 'd'\n",
    "\n"
   ]
  },
  {
   "cell_type": "markdown",
   "id": "e53fe1b4",
   "metadata": {},
   "source": [
    "#4. What is the value of spam[-1]?\n",
    "\n",
    "Ans:\n",
    "\n",
    "'d'\n",
    "\n"
   ]
  },
  {
   "cell_type": "markdown",
   "id": "bdb547f5",
   "metadata": {},
   "source": [
    "#5. What is the value of spam[:2]?\n",
    "\n",
    "Ans:\n",
    "\n",
    "['a', 'b']"
   ]
  },
  {
   "cell_type": "code",
   "execution_count": 3,
   "id": "f1bb494e",
   "metadata": {},
   "outputs": [],
   "source": [
    "bacon = [3.14,'cat',11,'cat',True]"
   ]
  },
  {
   "cell_type": "markdown",
   "id": "6df60e6d",
   "metadata": {},
   "source": [
    "#6. What is the value of bacon.index(&#39;cat&#39;)?\n",
    "\n",
    "Ans:\n",
    "\n",
    "1"
   ]
  },
  {
   "cell_type": "markdown",
   "id": "df9ad631",
   "metadata": {},
   "source": [
    "#7. How does bacon.append(99) change the look of the list value in bacon?\n",
    "\n",
    "Ans:\n",
    "\n",
    "[3.14,'cat',11,'cat',True,99]"
   ]
  },
  {
   "cell_type": "markdown",
   "id": "9ef47484",
   "metadata": {},
   "source": [
    "#8. How does bacon.remove(&#39;cat&#39;) change the look of the list in bacon?\n",
    "\n",
    "Ans:\n",
    "\n",
    "[3.14,11,'cat',True,99]"
   ]
  },
  {
   "cell_type": "markdown",
   "id": "d5874a4f",
   "metadata": {},
   "source": [
    "#9. What are the list concatenation and list replication operators?\n",
    "\n",
    "Ans:\n",
    "\n",
    "'+' -->List concatenator operator\n",
    "\n",
    "'*' --> List replication operator"
   ]
  },
  {
   "cell_type": "markdown",
   "id": "bb97ac3c",
   "metadata": {},
   "source": [
    "#10. What is difference between the list methods append() and insert()?\n",
    "\n",
    "Ans:\n",
    "\n",
    "append() --> by default value is added as last element of the list, and doesnt require any position argument\n",
    "\n",
    "insert() --> requires two arguments, one being the position in list where the element has to be inserted and other is the value"
   ]
  },
  {
   "cell_type": "markdown",
   "id": "fd3886c2",
   "metadata": {},
   "source": [
    "#11. What are the two methods for removing items from a list?\n",
    "\n",
    "Ans:\n",
    "\n",
    "pop()--removes and retuens the removed value\n",
    "remove() -- removes the first occurence of passed value"
   ]
  },
  {
   "cell_type": "markdown",
   "id": "60f8adfc",
   "metadata": {},
   "source": [
    "#12. Describe how list values and string values are identical.\n",
    "\n",
    "Ans:\n",
    "\n",
    "both list and string are collection of sequential data, values of both list and string can be accessed by indexing and perform multiple types of split opertions\n"
   ]
  },
  {
   "cell_type": "markdown",
   "id": "d5f3e0d4",
   "metadata": {},
   "source": [
    "#13. What&#39;s the difference between tuples and lists?\n",
    "\n",
    "Ans:\n",
    "\n",
    "Main diference is regarding mutablity ,that is Tuples are immuatables whereas Lists are mutables"
   ]
  },
  {
   "cell_type": "markdown",
   "id": "1f4285e6",
   "metadata": {},
   "source": [
    "#14. How do you type a tuple value that only contains the integer 42?\n",
    "\n",
    "Ans:\n",
    "\n",
    "tup = (42,)"
   ]
  },
  {
   "cell_type": "markdown",
   "id": "0747caab",
   "metadata": {},
   "source": [
    "#15. How do you get a list value&#39;s tuple form? How do you get a tuple value&#39;s list form?\n",
    "\n",
    "Ans:\n",
    "\n",
    "lis = [1,2,3,4,5,6]\n",
    "tup = ['a','b','c','d','e']\n",
    "\n",
    "lis_tup = tuple(lis)\n",
    "\n",
    "tup_lis = list(tup)"
   ]
  },
  {
   "cell_type": "markdown",
   "id": "c03d5785",
   "metadata": {},
   "source": [
    "#16. Variables that &quot;contain&quot; list values are not necessarily lists themselves. Instead, what do they\n",
    "contain?\n",
    "\n",
    "Ans:\n",
    "\n",
    "any type of collections can contain collection inside them"
   ]
  },
  {
   "cell_type": "markdown",
   "id": "269f6199",
   "metadata": {},
   "source": [
    "#17. How do you distinguish between copy.copy() and copy.deepcopy()?\n",
    "\n",
    "Ans:\n",
    "\n",
    "copy.copy()-->this is a shallow copy using which new object is created that only has reference to original object, its effects can be seen in compound objects only, like list containing another list, if the copy is created using copy.copy() after which if there is any update to any one of the two obects then it will be reflected into other\n",
    "\n",
    "copy.deepcopy()-->in this case new object is created instead of just the reference to it, if there is any updation to any one of the object then it is not reflected onto other object"
   ]
  }
 ],
 "metadata": {
  "kernelspec": {
   "display_name": "Python 3 (ipykernel)",
   "language": "python",
   "name": "python3"
  },
  "language_info": {
   "codemirror_mode": {
    "name": "ipython",
    "version": 3
   },
   "file_extension": ".py",
   "mimetype": "text/x-python",
   "name": "python",
   "nbconvert_exporter": "python",
   "pygments_lexer": "ipython3",
   "version": "3.9.12"
  }
 },
 "nbformat": 4,
 "nbformat_minor": 5
}
