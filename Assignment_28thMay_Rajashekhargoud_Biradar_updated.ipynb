{
 "cells": [
  {
   "cell_type": "markdown",
   "id": "b27a5ad9",
   "metadata": {},
   "source": [
    "#########################################Questoins#########################################################\n",
    "q1 :\n",
    "ineruon \n",
    "ineruon ineruon \n",
    "ineruon ineruon ineruon\n",
    "ineruon ineruon ineruon ineruon\n",
    "\n",
    "q2 - \n",
    "\n",
    "          ineruon\n",
    "    ineruon      ineruon\n",
    "ineruon\t\tineruon \tineruon\n",
    "\tineruon\t\t ineruon\n",
    "\t\t  ineruon\n",
    "\n",
    "l = [[1,2,3,4] , (2,3,4,5,6) , (3,4,5,6,7) , set([23,4,5,45,4,4,5,45,45,4,5]) , {'k1' :\"sudh\" , \"k2\" : \"ineuron\",\"k3\":\n",
    "            \"kumar\" , 3:6 , 7:8} , [\"ineuron\" , \"data science \"]]\n",
    "\n",
    "q3 : Try to extract all the list entity \n",
    "q4 : Try to extract all the dict enteties\n",
    "q5 : Try to extract all the tuples entities\n",
    "q6 : Try to extract all the numerical data it may b a part of dict key and values \n",
    "q7 : Try to give summation of all the numeric data \n",
    "q8 : Try to filter out all the odd values out all numeric data which is a part of a list \n",
    "q9 : Try to extract \"ineruon\" out of this data\n",
    "q10 :Try to find out a number of occurances of all the data \n",
    "q11 : Try to find out number of keys in dict element\n",
    "q12 : Try to filter out all the string data \n",
    "q13 : Try to Find  out alphanum in data\n",
    "q14 : Try to find out multiplication of all numeric value in  the individual collection inside dataset \n",
    "q15 : Try to unwrape all the collection inside collection and create a flat list \n",
    "    \n",
    "    \n",
    "before 29th may 2022 3 PM IST you have to send an answer to me or to shivan \n",
    "sudhanshu@ineuron.ai\n",
    "shivan@ineuron.ai"
   ]
  },
  {
   "cell_type": "code",
   "execution_count": 6,
   "id": "11088527",
   "metadata": {},
   "outputs": [
    {
     "name": "stdout",
     "output_type": "stream",
     "text": [
      "ineuron \n",
      "ineuron ineuron \n",
      "ineuron ineuron ineuron \n",
      "ineuron ineuron ineuron ineuron \n"
     ]
    }
   ],
   "source": [
    "##1\n",
    "str='ineuron'\n",
    "for i in range(4):\n",
    "    for j in range(i+1):\n",
    "        print(str,end=' ')\n",
    "    print()"
   ]
  },
  {
   "cell_type": "code",
   "execution_count": 15,
   "id": "37c6e87c",
   "metadata": {},
   "outputs": [
    {
     "name": "stdout",
     "output_type": "stream",
     "text": [
      "              ineuron       \n",
      "       ineuron       ineuron       \n",
      "ineuron       ineuron       ineuron       \n",
      "       ineuron       ineuron       \n",
      "              ineuron       \n"
     ]
    }
   ],
   "source": [
    "##2\n",
    "str='ineuron'\n",
    "n=len(str)\n",
    "\n",
    "for i in range(3):\n",
    "    for j in range(3-i-1):\n",
    "        print(' '*n,end='')\n",
    "    for k in range(i+1):\n",
    "        print(str,end=' '*n)\n",
    "    print()\n",
    "\n",
    "for a in range(2):\n",
    "    for b in range(a+1):\n",
    "        print(' '*n,end='')\n",
    "    for k in range(2-a):\n",
    "        print(str,end=' '*n)\n",
    "    print()\n",
    "    \n"
   ]
  },
  {
   "cell_type": "code",
   "execution_count": 2,
   "id": "29578b32",
   "metadata": {},
   "outputs": [
    {
     "name": "stdout",
     "output_type": "stream",
     "text": [
      "[1, 2, 3, 4, 'ineuron', 'data science ']\n"
     ]
    }
   ],
   "source": [
    "##3\n",
    "l = [[1,2,3,4] , (2,3,4,5,6) , (3,4,5,6,7) , set([23,4,5,45,4,4,5,45,45,4,5]) , {'k1' :\"sudh\" , \"k2\" : \"ineuron\",\"k3\": \"kumar\" , 3:6 , 7:8} , [\"ineuron\" , \"data science \"]]\n",
    "l1=[]\n",
    "for i in l:\n",
    "    if type(i)==list:\n",
    "        for k in i:\n",
    "            l1.append(k)\n",
    "        \n",
    "print(l1)"
   ]
  },
  {
   "cell_type": "code",
   "execution_count": 22,
   "id": "8c4288fe",
   "metadata": {},
   "outputs": [
    {
     "name": "stdout",
     "output_type": "stream",
     "text": [
      "{'k1': 'sudh', 'k2': 'ineuron', 'k3': 'kumar', 3: 6, 7: 8}  these are in dictionry format\n",
      "['k1', 'sudh', 'k2', 'ineuron', 'k3', 'kumar', 3, 6, 7, 8]  these are in list format\n"
     ]
    }
   ],
   "source": [
    "##4\n",
    "l = [[1,2,3,4] , (2,3,4,5,6) , (3,4,5,6,7) , set([23,4,5,45,4,4,5,45,45,4,5]) , {'k1' :\"sudh\" , \"k2\" : \"ineuron\",\"k3\": \"kumar\" , 3:6 , 7:8} , [\"ineuron\" , \"data science \"]]\n",
    "dict1={}\n",
    "l1=[]\n",
    "for i in l:\n",
    "    if type(i)==dict:\n",
    "        dict1.update(i)\n",
    "\n",
    "for j in dict1:\n",
    "    l1.append(j)\n",
    "    l1.append(dict1[j])\n",
    "        \n",
    "print(dict1,' all extracted dictonary elements are in dictonary format')\n",
    "\n",
    "print(l1,\" all extracted dictonary elements are in list format\")"
   ]
  },
  {
   "cell_type": "code",
   "execution_count": 24,
   "id": "31d19603",
   "metadata": {},
   "outputs": [
    {
     "data": {
      "text/plain": [
       "(2, 3, 4, 5, 6, 3, 4, 5, 6, 7)"
      ]
     },
     "execution_count": 24,
     "metadata": {},
     "output_type": "execute_result"
    }
   ],
   "source": [
    "##5\n",
    "tup=()\n",
    "for i in l:\n",
    "    if type(i)==tuple:\n",
    "        tup=tup+i\n",
    "print(tup)"
   ]
  },
  {
   "cell_type": "code",
   "execution_count": 11,
   "id": "0e9b41df",
   "metadata": {},
   "outputs": [
    {
     "name": "stdout",
     "output_type": "stream",
     "text": [
      "[1, 2, 3, 4, 2, 3, 4, 5, 6, 3, 4, 5, 6, 7, 45, 4, 5, 23, 3, 6, 7, 8]\n"
     ]
    }
   ],
   "source": [
    "##6\n",
    "l = [[1,2,3,4] , (2,3,4,5,6) , (3,4,5,6,7) , set([23,4,5,45,4,4,5,45,45,4,5]) , {'k1' :\"sudh\" , \"k2\" : \"ineuron\",\"k3\": \"kumar\" , 3:6 , 7:8} , [\"ineuron\" , \"data science \"]]\n",
    "l1=[]\n",
    "\n",
    "for i in l:\n",
    "    if type(i)==int or type(i)==float:\n",
    "        l1.append(i)\n",
    "    elif type(i)==list or type(i)==tuple or type(i)==set:\n",
    "        for j in i:\n",
    "            if type(j)==int or type(j)==float:\n",
    "                l1.append(j)\n",
    "    elif type(i)==set:\n",
    "        l1.append(i)\n",
    "    elif type(i)==dict:\n",
    "        for k in i:\n",
    "#             val=i\n",
    "            if type(k)==int or type(k)==float:\n",
    "                l1.append(k)\n",
    "        \n",
    "            if type(i[k])==int or type(i[k])==float:\n",
    "                l1.append(i[k])\n",
    "\n",
    "print(l1)\n",
    "            "
   ]
  },
  {
   "cell_type": "code",
   "execution_count": 48,
   "id": "ba1e1022",
   "metadata": {},
   "outputs": [
    {
     "name": "stdout",
     "output_type": "stream",
     "text": [
      "156\n"
     ]
    }
   ],
   "source": [
    "##7\n",
    "#6 has ouput that contains all the numerical values in list 'l1' making use of this list\n",
    "sum=0\n",
    "for i in range(len(l1)):\n",
    "    sum=sum+l1[i]\n",
    "print(sum)"
   ]
  },
  {
   "cell_type": "code",
   "execution_count": 51,
   "id": "8be0cca6",
   "metadata": {},
   "outputs": [
    {
     "name": "stdout",
     "output_type": "stream",
     "text": [
      "[1, 3, 3, 5, 3, 5, 7, 45, 5, 23, 3, 7]  this contains all the odd values from the provided list\n"
     ]
    }
   ],
   "source": [
    "##8\n",
    "#6 from here we have list l1 that holds all numeric data present in the list tht was initially provided\n",
    "l2=[]\n",
    "for i in range(len(l1)):\n",
    "    if l1[i]%2!=0:\n",
    "        l2.append(l1[i])\n",
    "print(l2, \" this contains all the odd values from the provided list\")"
   ]
  },
  {
   "cell_type": "code",
   "execution_count": 58,
   "id": "be7e821e",
   "metadata": {},
   "outputs": [
    {
     "data": {
      "text/plain": [
       "['ineuron', 'ineuron']"
      ]
     },
     "execution_count": 58,
     "metadata": {},
     "output_type": "execute_result"
    }
   ],
   "source": [
    "##9\n",
    "ineu=[]\n",
    "for i in l:\n",
    "    if type(i)==list or type(i)==tuple or type(i)==set:  # search for ineuron in list\n",
    "        for j in i:\n",
    "            if j=='ineuron':\n",
    "                ineu.append(j)\n",
    "    elif type(i)==str and i=='ineuron':   # search for ineuron in strings\n",
    "        ineu.append(i)\n",
    "    elif type(i)==dict:                   # search for ineuron in dictionary\n",
    "        for x in i:\n",
    "            if x=='ineuron':\n",
    "                ineu.append(x)\n",
    "            if i[x]=='ineuron':\n",
    "                ineu.append(i[x])\n",
    "ineu"
   ]
  },
  {
   "cell_type": "code",
   "execution_count": 73,
   "id": "ceb6f767",
   "metadata": {},
   "outputs": [
    {
     "data": {
      "text/plain": [
       "{1: 4,\n",
       " 2: 3,\n",
       " 3: 4,\n",
       " 4: 3,\n",
       " 5: 1,\n",
       " 6: 1,\n",
       " 7: 1,\n",
       " 'sudh': 1,\n",
       " 'ineuron': 1,\n",
       " 8: 1,\n",
       " 45: 1,\n",
       " 'k3': 1,\n",
       " 'kumar': 1,\n",
       " 23: 1,\n",
       " 'k1': 1,\n",
       " 'k2': 1}"
      ]
     },
     "execution_count": 73,
     "metadata": {},
     "output_type": "execute_result"
    }
   ],
   "source": [
    "##10\n",
    "list2=[]\n",
    "dict3={}\n",
    "for i in l:\n",
    "    if type(i)==list or type(i)==tuple:\n",
    "        for h in range(len(i)):\n",
    "            list2.append(i[h])\n",
    "    elif type(i)==set:\n",
    "        for j in i:\n",
    "            list2.append(j)\n",
    "    elif type(i)==dict:\n",
    "        for x in i:\n",
    "            list2.append(x)\n",
    "            list2.append(i[x])\n",
    "    elif type(i)==int or type(i)==float or type(i)==str:\n",
    "            list2.append(i)\n",
    "list2   #list2 now contains all the elements in  initail list in list format\n",
    "set2=set(list2)  #covert to SET inorder to get the unique values\n",
    "set2    \n",
    "\n",
    "for z in set2:    # loop to iterate through all elements checking for repeatability \n",
    "    count=0\n",
    "    for i in l:\n",
    "        if type(i)==list or type(i)==tuple:\n",
    "            for h in range(len(i)):\n",
    "                if z==h:\n",
    "                    count=count+1\n",
    "                    dict3[z]=count\n",
    "        elif type(i)==set:\n",
    "            for j in i:\n",
    "                if z==j:\n",
    "                    count=count+1\n",
    "                    dict3[z]=count\n",
    "        elif type(i)==dict:\n",
    "            for x in i:\n",
    "                if z==x:\n",
    "                    count=count+1\n",
    "                    dict3[z]=count\n",
    "                if i[x]==z:\n",
    "                    count=count+1\n",
    "                    dict3[z]=count\n",
    "        elif type(i)==int or type(i)==float or type(i)==str:\n",
    "                if i==z:\n",
    "                    count=count+1\n",
    "                    dict3[z]=count\n",
    "\n",
    "dict3                     \n",
    "    "
   ]
  },
  {
   "cell_type": "code",
   "execution_count": 84,
   "id": "83b49400",
   "metadata": {},
   "outputs": [
    {
     "name": "stdout",
     "output_type": "stream",
     "text": [
      "Total number of keys in initial provided list is  5\n"
     ]
    }
   ],
   "source": [
    "##11\n",
    "count1=0\n",
    "for i in l:\n",
    "    if type(i)==dict:\n",
    "        count1=count1+len(i)\n",
    "\n",
    "print(\"Total number of keys in initial provided list is \",count1)"
   ]
  },
  {
   "cell_type": "code",
   "execution_count": 3,
   "id": "eaad991b",
   "metadata": {},
   "outputs": [
    {
     "name": "stdout",
     "output_type": "stream",
     "text": [
      "['k1', 'sudh', 'k2', 'ineuron', 'k3', 'kumar', 'ineuron', 'data science ']\n"
     ]
    }
   ],
   "source": [
    "##12\n",
    "#making use of \"list2\" which contains all the elements of intial provided list as executed in query #10\n",
    "\n",
    "l6=[]\n",
    "\n",
    "\n",
    "for i in l:\n",
    "    if type(i)==str:\n",
    "        l6.append(i)\n",
    "    elif type(i)==list or type(i)==tuple or type(i)==set:\n",
    "        for j in i:\n",
    "            if type(j)==str:\n",
    "                l6.append(j)\n",
    "    elif type(i)==dict:\n",
    "        for k in i:\n",
    "#             val=i\n",
    "            if type(k)==str:\n",
    "                l6.append(k)\n",
    "        \n",
    "            if type(i[k])==str:\n",
    "                l6.append(i[k])\n",
    "\n",
    "print(l6)\n",
    "            "
   ]
  },
  {
   "cell_type": "code",
   "execution_count": 20,
   "id": "c640a9c6",
   "metadata": {},
   "outputs": [
    {
     "name": "stdout",
     "output_type": "stream",
     "text": [
      "[]\n"
     ]
    }
   ],
   "source": [
    "##13\n",
    "\n",
    "l7=[]\n",
    "\n",
    "for i in l:\n",
    "    if type(i)==str:\n",
    "        if l[i].isalnum():\n",
    "            l7.append(i)\n",
    "    elif type(i)==list or type(i)==tuple or type(i)==set:\n",
    "        for j in i:\n",
    "            if type(i)==str:\n",
    "                if j.isalnum():\n",
    "                    l7.append(j)\n",
    "    elif type(i)==dict:\n",
    "        for k in i:\n",
    "            if type(i)==str:\n",
    "                if k.isalnum():\n",
    "                    l7.append(k)\n",
    "        \n",
    "            if type(i)==str:\n",
    "                if i[k].isalnum():\n",
    "                     l7.append(i[k])\n",
    "\n",
    "print(l7)"
   ]
  },
  {
   "cell_type": "code",
   "execution_count": 19,
   "id": "28a87b5d",
   "metadata": {},
   "outputs": [
    {
     "data": {
      "text/plain": [
       "{'[1, 2, 3, 4]': 24,\n",
       " '(2, 3, 4, 5, 6)': 720,\n",
       " '(3, 4, 5, 6, 7)': 2520,\n",
       " '[45, 4, 5, 23]': 20700,\n",
       " \"{'k1': 'sudh', 'k2': 'ineuron', 'k3': 'kumar', 3: 6, 7: 8}\": 1008}"
      ]
     },
     "execution_count": 19,
     "metadata": {},
     "output_type": "execute_result"
    }
   ],
   "source": [
    "##14\n",
    "\n",
    "dict7={}\n",
    "for i in l:\n",
    "    mul=1\n",
    "    count=0\n",
    "    if type(i)==int or type(i)==float or type(i)==str:\n",
    "        pass\n",
    "    elif type(i)==list or type(i)==tuple:\n",
    "        for j in i:\n",
    "            if type(j)==int or type(j)==float:\n",
    "                mul=mul*j\n",
    "                count=count+1\n",
    "        if(count>0):\n",
    "            dict7[str(i)]=mul\n",
    "    elif type(i)==set:\n",
    "        i=list(i)\n",
    "        for k in i:\n",
    "            if type(k)==int or type(k)==float:\n",
    "                mul=mul*k\n",
    "                count=count+1\n",
    "        if(count>0):\n",
    "            dict7[str(i)]=mul\n",
    "    elif type(i)==dict:\n",
    "        for n in i:\n",
    "            if type(n)==int or type(n)==float:\n",
    "                mul=mul*n\n",
    "                count=count+1\n",
    "            if type(i[n])==int or type(i[n])==float:\n",
    "                mul=mul*i[n]\n",
    "                count=count+1\n",
    "        if(count>0):\n",
    "            dict7[str(i)]=mul\n",
    "dict7"
   ]
  },
  {
   "cell_type": "code",
   "execution_count": 12,
   "id": "31f632b5",
   "metadata": {},
   "outputs": [
    {
     "data": {
      "text/plain": [
       "[1,\n",
       " 2,\n",
       " 3,\n",
       " 4,\n",
       " 2,\n",
       " 3,\n",
       " 4,\n",
       " 5,\n",
       " 6,\n",
       " 3,\n",
       " 4,\n",
       " 5,\n",
       " 6,\n",
       " 7,\n",
       " 45,\n",
       " 4,\n",
       " 5,\n",
       " 23,\n",
       " 'k1',\n",
       " 'sudh',\n",
       " 'k2',\n",
       " 'ineuron',\n",
       " 'k3',\n",
       " 'kumar',\n",
       " 3,\n",
       " 6,\n",
       " 7,\n",
       " 8,\n",
       " 'ineuron',\n",
       " 'data science ']"
      ]
     },
     "execution_count": 12,
     "metadata": {},
     "output_type": "execute_result"
    }
   ],
   "source": [
    "##15\n",
    "\n",
    "list15=[]\n",
    "for i in l:\n",
    "    mul=1\n",
    "    if type(i)==int or type(i)==float or type(i)==str:\n",
    "        list[15].append(i)\n",
    "    elif type(i)==list or type(i)==tuple:\n",
    "        for j in i:\n",
    "            list15.append(j)\n",
    "    elif type(i)==set:\n",
    "        k=list(i)\n",
    "        for j in k:\n",
    "            list15.append(j)\n",
    "    elif type(i)==dict:\n",
    "        for n in i:\n",
    "            list15.append(n)\n",
    "            list15.append(i[n])\n",
    "list15"
   ]
  },
  {
   "cell_type": "code",
   "execution_count": null,
   "id": "5d2f6b5c",
   "metadata": {},
   "outputs": [],
   "source": []
  }
 ],
 "metadata": {
  "kernelspec": {
   "display_name": "Python 3 (ipykernel)",
   "language": "python",
   "name": "python3"
  },
  "language_info": {
   "codemirror_mode": {
    "name": "ipython",
    "version": 3
   },
   "file_extension": ".py",
   "mimetype": "text/x-python",
   "name": "python",
   "nbconvert_exporter": "python",
   "pygments_lexer": "ipython3",
   "version": "3.9.12"
  }
 },
 "nbformat": 4,
 "nbformat_minor": 5
}
