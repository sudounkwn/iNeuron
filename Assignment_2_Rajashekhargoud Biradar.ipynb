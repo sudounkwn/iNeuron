{
 "cells": [
  {
   "cell_type": "markdown",
   "id": "b55af4a7",
   "metadata": {},
   "source": [
    "##1.What are the two values of the Boolean data type? How do you write them?\n",
    "\n",
    "Answer:\n",
    "\n",
    "True and False"
   ]
  },
  {
   "cell_type": "markdown",
   "id": "250ce79e",
   "metadata": {},
   "source": [
    "##2. What are the three different types of Boolean operators?\n",
    "\n",
    "Answer:\n",
    "\n",
    "AND , OR , NOT"
   ]
  },
  {
   "cell_type": "markdown",
   "id": "84b16e74",
   "metadata": {},
   "source": [
    "##3.Make a list of each Boolean operator's truth tables (i.e. every possible combination of Boolean\n",
    "values for the operator and what it evaluate ).\n",
    "\n",
    "Answer:\n",
    "\n",
    "True AND True = True\n",
    "\n",
    "True AND False = False\n",
    "\n",
    "False AND True = False\n",
    "\n",
    "False AND False = False\n",
    "\n",
    "\n",
    "True OR True = True\n",
    "\n",
    "True OR False = True\n",
    "\n",
    "False OR True = True\n",
    "\n",
    "False OR False = False\n",
    "\n",
    "\n",
    "! True = False\n",
    "\n",
    "! False = True\n"
   ]
  },
  {
   "cell_type": "markdown",
   "id": "65cf27d1",
   "metadata": {},
   "source": [
    "##4. What are the values of the following expressions?\n",
    "(5 > 4) and (3 == 5)\n",
    "not (5 > 4)\n",
    "(5 > 4) or (3 == 5)\n",
    "not ((5 > 4) or (3 == 5))\n",
    "(True and True) and (True == False)\n",
    "(not False) or (not True)\n",
    "\n",
    "Answer:\n",
    "\n",
    "False\n",
    "\n",
    "False\n",
    "\n",
    "True\n",
    "\n",
    "False\n",
    "\n",
    "False\n",
    "\n",
    "True"
   ]
  },
  {
   "cell_type": "markdown",
   "id": "4ac11005",
   "metadata": {},
   "source": [
    "##5. What are the six comparison operators?\n",
    "\n",
    "Answer:\n",
    "\n",
    "==\n",
    "\n",
    "!=\n",
    "\n",
    ">\n",
    "\n",
    "<\n",
    "\n",
    ">=\n",
    "\n",
    "<="
   ]
  },
  {
   "cell_type": "markdown",
   "id": "e5e9a18d",
   "metadata": {},
   "source": [
    "##6. How do you tell the difference between the equal to and assignment operators?Describe a\n",
    "condition and when you would use one.\n",
    "\n",
    "Answer:\n",
    "\n",
    "Equl to(=)\n",
    "it is single \"=\", which is used to assign value to variable \n",
    "Example: a=5 --> assigning interger values to variable 'a'\n",
    "name='Rajashekhar' -->assigning string value to variable 'name'\n",
    "\n",
    "Assignment(==)\n",
    "it is used while comapring the values of two variables, which can be used in conditional statments\n",
    "Example: if(a==5):\n",
    "            print('comparing value of variable a to integer value 5')"
   ]
  },
  {
   "cell_type": "markdown",
   "id": "59c02553",
   "metadata": {},
   "source": [
    "##7. Identify the three blocks in this code:\n",
    "\n",
    "Answer:\n",
    "\n",
    "spam = 0\n",
    "if spam == 10: ------------------Block 1\n",
    "    print(‘eggs’)\n",
    "if spam > 5:     -------------------Block 2\n",
    "    print(‘bacon’)\n",
    "else:\n",
    "    print(‘ham’)\n",
    "print(‘spam’)------------------Block 3\n",
    "print(‘spam’)\n"
   ]
  },
  {
   "cell_type": "markdown",
   "id": "8226f66d",
   "metadata": {},
   "source": [
    "##8. Write code that prints Hello if 1 is stored in spam, prints Howdy if 2 is stored in spam, and prints\n",
    "Greetings! if anything else is stored in spam."
   ]
  },
  {
   "cell_type": "code",
   "execution_count": 3,
   "id": "885caedc",
   "metadata": {},
   "outputs": [
    {
     "name": "stdout",
     "output_type": "stream",
     "text": [
      "3\n",
      "Greetings\n"
     ]
    }
   ],
   "source": [
    "spam=int(input())\n",
    "if spam==1:\n",
    "    print('Hello')\n",
    "elif spam==2:\n",
    "    print('Howdy')\n",
    "else:\n",
    "    print('Greetings')"
   ]
  },
  {
   "cell_type": "markdown",
   "id": "bd73860e",
   "metadata": {},
   "source": [
    "##9.If your programme is stuck in an endless loop, what keys you’ll press?\n",
    "\n",
    "Answer:\n",
    "\n",
    "CTRL+C as used in most of unix commands"
   ]
  },
  {
   "cell_type": "markdown",
   "id": "12266f2e",
   "metadata": {},
   "source": [
    "##10. How can you tell the difference between break and continue?\n",
    "\n",
    "Answer:\n",
    "\n",
    "Break--> once this statement is encountered control gets out of current loop(be it for, while) and goes to statement after the current loop\n",
    "\n",
    "Continue--> once this is encountered control is passed to begining of the loop for next iterartion ignoring the statments immidiately below continue"
   ]
  },
  {
   "cell_type": "markdown",
   "id": "55e6d5df",
   "metadata": {},
   "source": [
    "##11. In a for loop, what is the difference between range(10), range(0, 10), and range(0, 10, 1)?\n",
    "\n",
    "Answer:\n",
    "\n",
    "No difference in the elements and sequesnce being accessed"
   ]
  },
  {
   "cell_type": "code",
   "execution_count": 4,
   "id": "39c8709d",
   "metadata": {},
   "outputs": [
    {
     "name": "stdout",
     "output_type": "stream",
     "text": [
      "1\n",
      "2\n",
      "3\n",
      "4\n",
      "5\n",
      "6\n",
      "7\n",
      "8\n",
      "9\n",
      "10\n",
      "1\n",
      "2\n",
      "3\n",
      "4\n",
      "5\n",
      "6\n",
      "7\n",
      "8\n",
      "9\n",
      "10\n"
     ]
    }
   ],
   "source": [
    "##12. Write a short program that prints the numbers 1 to 10 using a for loop. Then write an equivalent program that prints the numbers 1 to 10 using a while loop.\n",
    "\n",
    "for i in range(1,11):\n",
    "    print(i)\n",
    "\n",
    "i=0\n",
    "while(i < 10):\n",
    "    i+=1\n",
    "    print(i)    "
   ]
  },
  {
   "cell_type": "code",
   "execution_count": 7,
   "id": "154e6eed",
   "metadata": {},
   "outputs": [
    {
     "ename": "IndentationError",
     "evalue": "unexpected indent (4091715907.py, line 5)",
     "output_type": "error",
     "traceback": [
      "\u001b[1;36m  Input \u001b[1;32mIn [7]\u001b[1;36m\u001b[0m\n\u001b[1;33m    spam.bacon()\u001b[0m\n\u001b[1;37m    ^\u001b[0m\n\u001b[1;31mIndentationError\u001b[0m\u001b[1;31m:\u001b[0m unexpected indent\n"
     ]
    }
   ],
   "source": [
    "##13. If you had a function named bacon() inside a module named spam, how would you call it after importing spam?\n",
    "\n",
    "import spam\n",
    "\n",
    "spam.bacon()"
   ]
  },
  {
   "cell_type": "code",
   "execution_count": null,
   "id": "d20cd304",
   "metadata": {},
   "outputs": [],
   "source": []
  }
 ],
 "metadata": {
  "kernelspec": {
   "display_name": "Python 3 (ipykernel)",
   "language": "python",
   "name": "python3"
  },
  "language_info": {
   "codemirror_mode": {
    "name": "ipython",
    "version": 3
   },
   "file_extension": ".py",
   "mimetype": "text/x-python",
   "name": "python",
   "nbconvert_exporter": "python",
   "pygments_lexer": "ipython3",
   "version": "3.9.12"
  }
 },
 "nbformat": 4,
 "nbformat_minor": 5
}
