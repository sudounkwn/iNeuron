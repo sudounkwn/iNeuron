{
 "cells": [
  {
   "cell_type": "markdown",
   "id": "3f8fd199",
   "metadata": {},
   "source": [
    "# Python Basics Assignment_1 -- Rajashekhar"
   ]
  },
  {
   "cell_type": "markdown",
   "id": "fe845191",
   "metadata": {},
   "source": [
    "##1. In the below elements which of them are values or an expression? eg:- values can be\n",
    "integer or string and expressions will be mathematical operators.\n",
    "*\n",
    "&#39;hello&#39;\n",
    "-87.8\n",
    "-\n",
    "/\n",
    "+\n",
    "6"
   ]
  },
  {
   "cell_type": "markdown",
   "id": "99734b16",
   "metadata": {},
   "source": [
    "Answer:\n",
    "* --> Expression\n",
    "\n",
    "'hello'-->Values\n",
    "\n",
    "-87.8 -->Values\n",
    "\n",
    "- --> Expression\n",
    "\n",
    "/ -->Expression\n",
    "\n",
    "+ -->Expression\n",
    "\n",
    "6 --> Values"
   ]
  },
  {
   "cell_type": "markdown",
   "id": "be1273be",
   "metadata": {},
   "source": [
    "##2. What is the difference between string and variable?\n",
    "\n",
    "Answer: \n",
    "\n",
    "String: it is array of characters as defined in most of programming language, it can hold any charcter value within itself like numerical, alphabhets and other special charcters, in Python string is written either within ' or \"\n",
    "\n",
    "Variable : something that holds assigned value which later can used to refernce that specific assigned value, it is kind of meaningful name assigned to particluar value instead of writting the whole value everywhere, Variable can defined to hold any data type"
   ]
  },
  {
   "cell_type": "markdown",
   "id": "f7a47833",
   "metadata": {},
   "source": [
    "##3. Describe three different data types.\n",
    "\n",
    "Answer:\n",
    "\n",
    "integer: it holds all numeric values of any range without any decimal place\n",
    "\n",
    "String: array of charcters , can hold any number of caharcters of any length, it can even hold special charcters in it\n",
    "\n",
    "Float: it holds numeric values with decimal places of any range\n",
    "\n"
   ]
  },
  {
   "cell_type": "markdown",
   "id": "50d36077",
   "metadata": {},
   "source": [
    "##4. What is an expression made up of? What do all expressions do?\n",
    "\n",
    "Answer:\n",
    "\n",
    "Expressions are made up of opearands and opearators, which genrate a value\n",
    "\n",
    "Expression can be used to perform operations on two operands and assign the resultant value to different variable or peform action to generate value at the end\n",
    "\n",
    "Ex: Arithematic--> a=b+c OR a=10*15 OR a*5\n",
    "\n",
    "Logical --> a= b & c OR a = b | c\n",
    "\n",
    "Assignment --> a=b or a=a+2"
   ]
  },
  {
   "cell_type": "markdown",
   "id": "0a8f12ca",
   "metadata": {},
   "source": [
    "##5. This assignment statements, like spam = 10. What is the difference between an\n",
    "expression and a statement?\n",
    "\n",
    "Answer:\n",
    "\n",
    "Expression always yields in value whereas statement may or may not yield a value at the end\n",
    "Printing value by print(x) is statement but not an expression, expressoins are subset of Statements, all the statements that yield value can be called as statements in simple words"
   ]
  },
  {
   "cell_type": "markdown",
   "id": "57e45383",
   "metadata": {},
   "source": [
    "##6. After running the following code, what does the variable bacon contain?\n",
    "bacon = 22\n",
    "bacon + 1\n",
    "\n",
    "Answer:\n",
    "\n",
    "23"
   ]
  },
  {
   "cell_type": "markdown",
   "id": "9b7d3d85",
   "metadata": {},
   "source": [
    "##7. What should the values of the following two terms be?\n",
    "\n",
    "Answer:\n",
    "\n",
    "'spam'+'spamspam'= 'spamspamspam'\n",
    "'spam*3= 'spamspamspam'"
   ]
  },
  {
   "cell_type": "markdown",
   "id": "46045019",
   "metadata": {},
   "source": [
    "##8. Why is eggs a valid variable name while 100 is invalid?\n",
    "\n",
    "Answer:\n",
    "\n",
    "Because variable can start only with alphabhet(lower/upper) or _ , it can not start with number\n",
    "\n",
    "but it can contain number within name but not as the begining character"
   ]
  },
  {
   "cell_type": "markdown",
   "id": "00e0452e",
   "metadata": {},
   "source": [
    "##9. What three functions can be used to get the integer, floating-point number, or string\n",
    "version of a value?\n",
    "\n",
    "Answer:\n",
    "\n",
    "a=int(a) -->to get interger value\n",
    "\n",
    "a=float(a) --> to get float value\n",
    "\n",
    "a=str(a) --> to get string value"
   ]
  },
  {
   "cell_type": "markdown",
   "id": "c49aba10",
   "metadata": {},
   "source": [
    "##10. Why does this expression cause an error? How can you fix it?\n",
    "'I have eaten' + 99 + ' burritos.'\n",
    "\n",
    "Answer:\n",
    "\n",
    "Error is thrown because we can not concatenate string with integer\n",
    "\n",
    "Solution : 'I have eaten' + str(99) + ' burritos.'"
   ]
  }
 ],
 "metadata": {
  "kernelspec": {
   "display_name": "Python 3 (ipykernel)",
   "language": "python",
   "name": "python3"
  },
  "language_info": {
   "codemirror_mode": {
    "name": "ipython",
    "version": 3
   },
   "file_extension": ".py",
   "mimetype": "text/x-python",
   "name": "python",
   "nbconvert_exporter": "python",
   "pygments_lexer": "ipython3",
   "version": "3.9.12"
  }
 },
 "nbformat": 4,
 "nbformat_minor": 5
}
