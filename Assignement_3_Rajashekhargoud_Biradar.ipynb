{
 "cells": [
  {
   "cell_type": "markdown",
   "id": "0da34f0a",
   "metadata": {},
   "source": [
    "#1 Why are functions advantageous to have in your programs?\n",
    "\n",
    "Ans:\n",
    "\n",
    "Reusability--If there is set of code which is called repeatedly then in such scenario Functions can be used to avoid rewritting of the code, it is used to eliminate the duplication of code\n",
    "Readability-- Using functions in the programs make is more readable an maintainable"
   ]
  },
  {
   "cell_type": "markdown",
   "id": "01d6f170",
   "metadata": {},
   "source": [
    "#2 When does the code in a function run: when it&#39;s specified or when it&#39;s called?\n",
    "\n",
    "Ans:\n",
    "    \n",
    "When it is called"
   ]
  },
  {
   "cell_type": "markdown",
   "id": "261ae91d",
   "metadata": {},
   "source": [
    "#3 What statement creates a function?\n",
    "\n",
    "Ans:\n",
    "\n",
    "def"
   ]
  },
  {
   "cell_type": "markdown",
   "id": "cda4a30a",
   "metadata": {},
   "source": [
    "#4 What is the difference between a function and a function call?\n",
    "\n",
    "Ans:\n",
    "\n",
    "Fucntion is defining the code and in Fucntion call we pass the control for execution"
   ]
  },
  {
   "cell_type": "markdown",
   "id": "d85c4fe4",
   "metadata": {},
   "source": [
    "#5 How many global scopes are there in a Python program? How many local scopes?\n",
    "\n",
    "Ans:\n",
    "\n",
    "4 scopes present in python\n",
    "Local scope--which is only which the block of code\n",
    "Glocal --  which can be accessed anywhere in the program\n",
    "Enclosed -- which is accesible to nested functions\n",
    "Built-in -- built in variables and fucntions"
   ]
  },
  {
   "cell_type": "markdown",
   "id": "6c22e90a",
   "metadata": {},
   "source": [
    "#6. What happens to variables in a local scope when the function call returns?\n",
    "\n",
    "Ans:\n",
    "\n",
    "They are destroyed because there is scope is present only when inside that particular function"
   ]
  },
  {
   "cell_type": "markdown",
   "id": "cb817733",
   "metadata": {},
   "source": [
    "#7. What is the concept of a return value? Is it possible to have a return value in an expression?\n",
    "\n",
    "Ans:\n",
    "\n",
    "Return value fucntionality is to return specific value after the execution of function is completed\n",
    "\n",
    "It is possible to have epression as return , but expression should be such that it evalutes to single only then it is valid , because function can return only single value\n"
   ]
  },
  {
   "cell_type": "markdown",
   "id": "6a156c5f",
   "metadata": {},
   "source": [
    "#8. If a function does not have a return statement, what is the return value of a call to that function?\n",
    "\n",
    "Ans:\n",
    "\n",
    "undefined"
   ]
  },
  {
   "cell_type": "markdown",
   "id": "aa8ee564",
   "metadata": {},
   "source": [
    "#9. How do you make a function variable refer to the global variable?\n",
    "\n",
    "Ans:\n",
    "\n",
    "using 'global' keyword"
   ]
  },
  {
   "cell_type": "markdown",
   "id": "61dc247a",
   "metadata": {},
   "source": [
    "#10. What is the data type of None?\n",
    "\n",
    "Ans:\n",
    "\n",
    "NoneType"
   ]
  },
  {
   "cell_type": "markdown",
   "id": "7e00ccf7",
   "metadata": {},
   "source": [
    "#11. What does the sentence import areallyourpetsnamederic do?\n",
    "\n",
    "Ans:\n",
    "\n",
    "It imports module areallyourpetsnamederic' if  it exists, and makes is available for execution for the current module in which it is being imported"
   ]
  },
  {
   "cell_type": "markdown",
   "id": "9aecfca5",
   "metadata": {},
   "source": [
    "#12. If you had a bacon() feature in a spam module, what would you call it after importing spam?\n",
    "\n",
    "Ans:\n",
    "\n",
    "import spam\n",
    "\n",
    "spam.bacon()\n",
    "\n",
    "------OR------\n",
    "import spam as sp\n",
    "\n",
    "sp.bacon()"
   ]
  },
  {
   "cell_type": "markdown",
   "id": "896f73d8",
   "metadata": {},
   "source": [
    "#13. What can you do to save a programme from crashing if it encounters an error?\n",
    "\n",
    "Ans:\n",
    "\n",
    "Use exception handling, try,except,Finally blocks also else block if required "
   ]
  },
  {
   "cell_type": "markdown",
   "id": "ce474a59",
   "metadata": {},
   "source": [
    "#14. What is the purpose of the try clause? What is the purpose of the except clause?\n",
    "\n",
    "Ans:\n",
    "\n",
    "Try is the block where code which is expected to throw error is placed and Except block is used to handle it"
   ]
  }
 ],
 "metadata": {
  "kernelspec": {
   "display_name": "Python 3 (ipykernel)",
   "language": "python",
   "name": "python3"
  },
  "language_info": {
   "codemirror_mode": {
    "name": "ipython",
    "version": 3
   },
   "file_extension": ".py",
   "mimetype": "text/x-python",
   "name": "python",
   "nbconvert_exporter": "python",
   "pygments_lexer": "ipython3",
   "version": "3.9.12"
  }
 },
 "nbformat": 4,
 "nbformat_minor": 5
}
